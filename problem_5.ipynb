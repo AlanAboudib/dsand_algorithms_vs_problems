{
 "cells": [
  {
   "cell_type": "markdown",
   "metadata": {},
   "source": [
    "# Building a Trie in Python\n",
    "\n",
    "Before we start let us reiterate the key components of a Trie or Prefix Tree. A trie is a tree-like data structure that stores a dynamic set of strings. Tries are commonly used to facilitate operations like predictive text or autocomplete features on mobile phones or web search.\n",
    "\n",
    "Before we move into the autocomplete function we need to create a working trie for storing strings.  We will create two classes:\n",
    "* A `Trie` class that contains the root node (empty string)\n",
    "* A `TrieNode` class that exposes the general functionality of the Trie, like inserting a word or finding the node which represents a prefix.\n",
    "\n",
    "Give it a try by implementing the `TrieNode` and `Trie` classes below!"
   ]
  },
  {
   "cell_type": "code",
   "execution_count": 64,
   "metadata": {},
   "outputs": [],
   "source": [
    "## Represents a single node in the Trie\n",
    "class TrieNode:\n",
    "    def __init__(self, char):\n",
    "        ## Initialize this node in the Trie\n",
    "        \n",
    "        # the character stored by this node\n",
    "        self.value = char\n",
    "        \n",
    "        # a dictionary of child nodes (TrieNode objects)\n",
    "        # indxed by the character of each one\n",
    "        self.children = {}\n",
    "    \n",
    "    def insert(self, char):\n",
    "        \n",
    "        ## Add a child node in this Trie\n",
    "        self.children[char] = TrieNode(char)\n",
    "        \n",
    "        # return a reference to the inserted node\n",
    "        return self.children[char]\n",
    "        \n",
    "    def find(self, char):\n",
    "        \n",
    "        ## get the child with 'char'\n",
    "        if char in self.children:\n",
    "            return self.children[char]\n",
    "        else:\n",
    "            return None\n",
    "        \n",
    "\n",
    "            \n"
   ]
  },
  {
   "cell_type": "code",
   "execution_count": 65,
   "metadata": {},
   "outputs": [],
   "source": [
    "## The Trie itself containing the root node and insert/find functions\n",
    "class Trie:\n",
    "    def __init__(self):\n",
    "        \n",
    "        ## add a root node (with empty string)\n",
    "        self.root = TrieNode('')\n",
    "        \n",
    "\n",
    "    def insert(self, word):\n",
    "        ## Add a word to the Trie\n",
    "        \n",
    "        # keep track of the last inserted or traversed node\n",
    "        last_node = self.root\n",
    "        \n",
    "        # start insertion\n",
    "        for char in word:\n",
    "            \n",
    "            # first check whether the character is already there\n",
    "            \n",
    "            prefix = last_node.find(char)\n",
    "            if prefix:\n",
    "                last_node = prefix\n",
    "            else:\n",
    "                # insert the character as a node\n",
    "                last_node = last_node.insert(char)\n",
    "                \n",
    "\n",
    "    def find(self, prefix):\n",
    "        ## Find the Trie node that represents this prefix\n",
    "        \n",
    "        # keep track of the last traversed TrieNode\n",
    "        last_node = self.root\n",
    "        \n",
    "        # traverse the Trie\n",
    "        for char in prefix:\n",
    "            \n",
    "            if last_node is not None:\n",
    "                last_node = last_node.find(char)\n",
    "            else:\n",
    "                return None\n",
    "            \n",
    "        return last_node"
   ]
  },
  {
   "cell_type": "markdown",
   "metadata": {},
   "source": [
    "# Finding Suffixes\n",
    "\n",
    "Now that we have a functioning Trie, we need to add the ability to list suffixes to implement our autocomplete feature.  To do that, we need to implement a new function on the `TrieNode` object that will return all complete word suffixes that exist below it in the trie.  For example, if our Trie contains the words `[\"fun\", \"function\", \"factory\"]` and we ask for suffixes from the `f` node, we would expect to receive `[\"un\", \"unction\", \"actory\"]` back from `node.suffixes()`.\n",
    "\n",
    "Using the code you wrote for the `TrieNode` above, try to add the suffixes function below. (Hint: recurse down the trie, collecting suffixes as you go.)"
   ]
  },
  {
   "cell_type": "code",
   "execution_count": 115,
   "metadata": {},
   "outputs": [],
   "source": [
    "## Represents a single node in the Trie\n",
    "class TrieNode:\n",
    "    def __init__(self, char):\n",
    "        ## Initialize this node in the Trie\n",
    "        \n",
    "        # the character stored by this node\n",
    "        self.value = char\n",
    "        \n",
    "        # a dictionary of child nodes (TrieNode objects)\n",
    "        # indxed by the character of each one\n",
    "        self.children = {}\n",
    "    \n",
    "    def insert(self, char):\n",
    "        \n",
    "        ## Add a child node in this Trie\n",
    "        self.children[char] = TrieNode(char)\n",
    "        \n",
    "        # return a reference to the inserted node\n",
    "        return self.children[char]\n",
    "    \n",
    "    def find(self, char):\n",
    "        \n",
    "        ## get the child with 'char'\n",
    "        if char in self.children:\n",
    "            return self.children[char]\n",
    "        else:\n",
    "            return None\n",
    "    '''   \n",
    "    def suffixes(self, suffix = ''):\n",
    "        ## Recursive function that collects the suffix for \n",
    "        ## all complete words below this point\n",
    "        \n",
    "        \n",
    "        # if this node has no children, return None\n",
    "        if len(self.children) == 0:\n",
    "            return suffix\n",
    "        \n",
    "        # define a list of suffixes\n",
    "        suffixes = []\n",
    "        \n",
    "        for char in self.children:\n",
    "            suffixes += self.children[char].suffixes(suffix + char)\n",
    "            \n",
    "        #print(suffixes)\n",
    "        return suffixes\n",
    "    '''\n",
    "    \n",
    "    def suffixes(self, suffix = '', suffixes = None):\n",
    "        ## Recursive function that collects the suffix for \n",
    "        ## all complete words below this point\n",
    "        \n",
    "        # initialize a list of siffixes that all called function are\n",
    "        # going to add siffixes to.\n",
    "        if suffixes is None:\n",
    "            suffixes = []\n",
    "        \n",
    "        # if this node has no children, return None\n",
    "        if len(self.children) == 0:\n",
    "            suffixes.append(suffix)\n",
    "            return suffixes\n",
    "\n",
    "        for char in self.children:\n",
    "            self.children[char].suffixes(suffix + char, suffixes)\n",
    "\n",
    "\n",
    "        #print(suffixes)\n",
    "        return suffixes\n"
   ]
  },
  {
   "cell_type": "markdown",
   "metadata": {},
   "source": [
    "# Testing it all out\n",
    "\n",
    "Run the following code to add some words to your trie and then use the interactive search box to see what your code returns."
   ]
  },
  {
   "cell_type": "code",
   "execution_count": 116,
   "metadata": {},
   "outputs": [],
   "source": [
    "MyTrie = Trie()\n",
    "wordList = [\n",
    "    \"ant\", \"anthology\", \"antagonist\", \"antonym\", \n",
    "    \"fun\", \"function\", \"factory\", \n",
    "    \"trie\", \"trigger\", \"trigonometry\", \"tripod\"\n",
    "]\n",
    "for word in wordList:\n",
    "    MyTrie.insert(word)"
   ]
  },
  {
   "cell_type": "code",
   "execution_count": 117,
   "metadata": {},
   "outputs": [
    {
     "data": {
      "application/vnd.jupyter.widget-view+json": {
       "model_id": "a2a89b1ffeb042aa8880916a3bbc19d0",
       "version_major": 2,
       "version_minor": 0
      },
      "text/html": [
       "<p>Failed to display Jupyter Widget of type <code>interactive</code>.</p>\n",
       "<p>\n",
       "  If you're reading this message in the Jupyter Notebook or JupyterLab Notebook, it may mean\n",
       "  that the widgets JavaScript is still loading. If this message persists, it\n",
       "  likely means that the widgets JavaScript library is either not installed or\n",
       "  not enabled. See the <a href=\"https://ipywidgets.readthedocs.io/en/stable/user_install.html\">Jupyter\n",
       "  Widgets Documentation</a> for setup instructions.\n",
       "</p>\n",
       "<p>\n",
       "  If you're reading this message in another frontend (for example, a static\n",
       "  rendering on GitHub or <a href=\"https://nbviewer.jupyter.org/\">NBViewer</a>),\n",
       "  it may mean that your frontend doesn't currently support widgets.\n",
       "</p>\n"
      ],
      "text/plain": [
       "interactive(children=(Text(value='', description='prefix'), Output()), _dom_classes=('widget-interact',))"
      ]
     },
     "metadata": {},
     "output_type": "display_data"
    }
   ],
   "source": [
    "from ipywidgets import widgets\n",
    "from IPython.display import display\n",
    "from ipywidgets import interact\n",
    "def f(prefix):\n",
    "    if prefix != '':\n",
    "        prefixNode = MyTrie.find(prefix)\n",
    "        if prefixNode:\n",
    "            print('\\n'.join(prefixNode.suffixes()))\n",
    "        else:\n",
    "            print(prefix + \" not found\")\n",
    "    else:\n",
    "        print('')\n",
    "interact(f,prefix='');"
   ]
  },
  {
   "cell_type": "code",
   "execution_count": null,
   "metadata": {},
   "outputs": [],
   "source": []
  },
  {
   "cell_type": "code",
   "execution_count": null,
   "metadata": {},
   "outputs": [],
   "source": []
  }
 ],
 "metadata": {
  "kernelspec": {
   "display_name": "Python 3",
   "language": "python",
   "name": "python3"
  },
  "language_info": {
   "codemirror_mode": {
    "name": "ipython",
    "version": 3
   },
   "file_extension": ".py",
   "mimetype": "text/x-python",
   "name": "python",
   "nbconvert_exporter": "python",
   "pygments_lexer": "ipython3",
   "version": "3.6.3"
  },
  "widgets": {
   "state": {},
   "version": "1.1.2"
  }
 },
 "nbformat": 4,
 "nbformat_minor": 2
}
